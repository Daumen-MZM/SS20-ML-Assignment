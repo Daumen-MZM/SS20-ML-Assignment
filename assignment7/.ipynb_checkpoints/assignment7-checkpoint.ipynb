{
 "cells": [
  {
   "cell_type": "markdown",
   "metadata": {},
   "source": [
    "# Assignment 7: Bagging and Boosting\n",
    "\n",
    "Only use the already imported library `numpy`, `matplotlib` and the Python standard library. For the evaluation you may also use scikit-learn (`sklearn`). Make sure that the dataset `titanic.csv` is in the same directory as the notebook.\n",
    "\n",
    "List your team members (name and immatriculation number) and indicate whether you are a B.Sc. Data Science or other group in the following cell:"
   ]
  },
  {
   "cell_type": "markdown",
   "metadata": {},
   "source": [
    "- Yang Zheng  (3434770)\n",
    "- Yuchan Bian (3496226)\n",
    "- Zhiming Ma  (3495421)\n",
    "\n",
    "Other group, not B.Sc. Data Science"
   ]
  },
  {
   "cell_type": "code",
   "execution_count": 162,
   "metadata": {},
   "outputs": [],
   "source": [
    "# You are allowed to use the numpy package and the DecisionTreeClassifier.\n",
    "import matplotlib.pyplot as plt\n",
    "import numpy as np\n",
    "from sklearn.tree import DecisionTreeClassifier\n",
    "\n",
    "def load_dataset(path):\n",
    "    import pandas as pd\n",
    "    from sklearn.model_selection import train_test_split\n",
    "\n",
    "    df = pd.read_csv('titanic.csv')\n",
    "    # The feature engineering mostly follows the notebook by Manav Segal: https://www.kaggle.com/startupsci/titanic-data-science-solutions\n",
    "    # From the Name attribute we can extract titles, which gives insight about the social status/age/gender of the passenger.\n",
    "    df['Title'] = df['Name'].str.extract(' ([a-zA-Z]+)\\.', expand=False)\n",
    "    df['Title'] = df['Title'].replace(['Lady', 'Countess', 'Capt', 'Col', 'Don', 'Dr', 'Major', 'Rev', 'Sir', 'Jonkheer', 'Dona'], 'Rare')\n",
    "    df['Title'] = df['Title'].replace(['Mlle', 'Ms'], 'Miss')\n",
    "    df['Title'] = df['Title'].replace('Mme', 'Mrs')\n",
    "    # We map the Title attribute to a one-hot encoding.\n",
    "    df = df.join(pd.get_dummies(df['Title'], prefix='Title'))\n",
    "\n",
    "    # We map the Sex attribute to a numeric representation.\n",
    "    df['Sex'] = df['Sex'].map({'female': 1, 'male': 0}).astype(int)\n",
    "\n",
    "    # We one-hot encode Pclass.\n",
    "    df = df.join(pd.get_dummies(df['Pclass'], prefix='Pclass'))\n",
    "\n",
    "    # Based on the number of sibling-spouses in SibSp and parents-childern in Parch, \n",
    "    # we can determine whether a passenger was on board alone.\n",
    "    df['IsAlone'] = ((df['SibSp'] + df['Parch'] + 1) == 1).astype(int)\n",
    "\n",
    "    # We remove all attributes that do not seem relevant to the prediction, or are already encoded in another attribute.\n",
    "    df = df.drop(['PassengerId', 'Name', 'Title', 'Ticket', 'Cabin', 'Parch', 'SibSp'], axis=1)\n",
    "\n",
    "    # For remaining features, we have to separate train and test, \n",
    "    # as we will impute missing data based on statistics in the training data.\n",
    "    df_train, df_test = train_test_split(df, test_size=0.2, random_state=2020)\n",
    "    # For Embarked, we set all missing values to the most frequent port and then one-hot encode the attribute.\n",
    "    def impute_embarked():    \n",
    "        freq_port = df_train['Embarked'].dropna().mode()[0]\n",
    "        output = []\n",
    "        for df in (df_train, df_test):\n",
    "            df = df.join(pd.get_dummies(df['Embarked'].fillna(freq_port), prefix='Embarked'))\n",
    "            df = df.drop('Embarked', axis=1)\n",
    "            output.append(df)\n",
    "        return output\n",
    "\n",
    "    df_train, df_test = impute_embarked()\n",
    "\n",
    "    # For Age, we set missing values to the median dependent on the pair of Sex and Pclass.\n",
    "    guess_ages = np.zeros((2, 3))\n",
    "    for df in (df_train, df_test):\n",
    "        for i in range(2):\n",
    "            for j in range(3):\n",
    "                guess_ages[i, j] = df[(df['Sex'] == i) & (df['Pclass'] == j+1)]['Age'].dropna().median()\n",
    "        for i in range(2):\n",
    "            for j in range(3):\n",
    "                df.loc[(df['Age'].isnull()) & (df['Sex'] == i) & (df['Pclass'] == j+1), 'Age'] = guess_ages[i, j]\n",
    "        df['Age'] = df['Age'].astype(int)\n",
    "\n",
    "    df_train = df_train.drop(['Pclass'], axis=1)\n",
    "    df_test = df_test.drop(['Pclass'], axis=1)\n",
    "\n",
    "    X_train = df_train.values[:, 1:]\n",
    "    X_test = df_test.values[:, 1:]\n",
    "    y_train = df_train.values[:, 0]\n",
    "    y_test = df_test.values[:, 0]\n",
    "    \n",
    "    return X_train, X_test, y_train, y_test\n",
    "    \n",
    "X_train, X_test, y_train, y_test = load_dataset('titanic.csv')"
   ]
  },
  {
   "cell_type": "markdown",
   "metadata": {},
   "source": [
    "The Titanic dataset and a description can be found at [Kaggle](https://www.kaggle.com/c/titanic/data). The feature engineering mostly follows the work by [Manav Segal](https://www.kaggle.com/startupsci/titanic-data-science-solutions). \n",
    "\n",
    "The prepared dataset contains the following attributes:\n",
    "- Sex: binary (0 = Male, 1 = Female)\n",
    "- Age: integer\n",
    "- Fare: float\n",
    "- Title_{Master, Miss, Mr, Mrs, Rare}: title of passenger (extracted from name), binary, one-hot encoding of categorical variable Title\n",
    "- Pclass_{1, 2, 3}: ticket class corresponds to socio-economic status (1 = upper class, 2 = middle class, 3 = lower class), binary, one-hot encoding of categorical variable Pclass\n",
    "- IsAlone: whether the passenger has no siblings/spouses/parents/children on board, binary\n",
    "- Embarked_{C, Q, S}: port at which passenger embarked (C = Cherbourg, Q = Queenstown, S = Southampton), binary, one-hot encoding of categorical variable Embarked\n",
    "\n",
    "The classification target is:\n",
    "- Survived: binary\n",
    "\n",
    "Data is split into train-test with a 80-20 ratio yielding 712 training and 179 test samples. Train and test data is stored in the variables `(X_train, y_train)` and `(X_test, y_test)` respectively."
   ]
  },
  {
   "cell_type": "markdown",
   "metadata": {},
   "source": [
    "## Task 1: Random Forest\n",
    "\n",
    "In this task, you will implement a random forest classifier using the scikit-learn implementation of the decision tree. \n",
    "\n",
    "Use bootstrap sampling and sample 20% of the original data set for each tree. Randomly select 6 attributes/columns for each trained tree. The prediction of each tree should be weighted equally in the majority vote. Use the already imported class `DecisionTreeClassifier` for your decision trees. You can find the decision tree documentation [here](https://scikit-learn.org/stable/modules/generated/sklearn.tree.DecisionTreeClassifier.html). You may use either the default parameters or experiment with different settings.\n",
    "\n",
    "You will evaluate your model on the test data using scikit-learn with the methods shown in the lecture ([precision, recall, F1-score](https://scikit-learn.org/stable/modules/generated/sklearn.metrics.precision_recall_fscore_support.html#sklearn.metrics.precision_recall_fscore_support), [confusion matrices](https://scikit-learn.org/stable/modules/generated/sklearn.metrics.confusion_matrix.html?highlight=confusion%20matrix#sklearn.metrics.confusion_matrix), ...). Try out different number of trees and compare the performance w.r.t. this parameter. Feel free to import any functions you need from scikit-learn for this purpose. \n"
   ]
  },
  {
   "cell_type": "code",
   "execution_count": 163,
   "metadata": {},
   "outputs": [],
   "source": [
    "class RandomForestClassifier(object):\n",
    "    def __init__(self, number_of_trees):\n",
    "        self.number_of_trees = number_of_trees\n",
    "        self.trees = []\n",
    "        \n",
    "        for i in range(self.number_of_trees):\n",
    "            tree = DecisionTreeClassifier(max_depth = 6)\n",
    "            self.trees.append(tree)\n",
    "        print(number_of_trees,'trees are created')\n",
    "        \n",
    "    def fit(self, X, y):\n",
    "        for b in range(self.number_of_trees):\n",
    "            # select 20% training data randomly with replacement\n",
    "            trainIndex = np.random.choice(len(y), size=int(len(y)*0.2), replace = False)\n",
    "            # select 6 attributes randomly\n",
    "            attributes_b = np.random.choice(15, 6, replace = False)\n",
    "            trainIndex = np.sort(trainIndex)\n",
    "            attributes_b = np.sort(attributes_b)\n",
    "            \n",
    "            X_train_b = X[trainIndex,:]\n",
    "            X_train_b = X_train_b[:,attributes_b]\n",
    "            y_train_b = y[trainIndex]\n",
    "            \n",
    "            # train the tree b\n",
    "            self.trees[b].fit(X_train_b,y_train_b)\n",
    "            # remember the attributes\n",
    "            self.trees[b].feature = attributes_b\n",
    "            \n",
    "    \n",
    "    def predict(self, X):\n",
    "        \n",
    "        results = np.zeros(X.shape[0])\n",
    "        y_pres = np.zeros((X.shape[0],self.number_of_trees))\n",
    "        \n",
    "        for b in range(self.number_of_trees):\n",
    "            attributes_b = self.trees[b].feature\n",
    "            X_b = X[:,attributes_b]\n",
    "            y_pre = self.trees[b].predict(X_b)\n",
    "            # get the prediction of each tree\n",
    "            y_pres[:,b] = np.transpose(y_pre)\n",
    "\n",
    "        for num in range(X.shape[0]):\n",
    "            # vote for the prediciton\n",
    "            results[num] = np.argmax(np.bincount(y_pres[num,:].astype('int')))\n",
    "        return results\n"
   ]
  },
  {
   "cell_type": "code",
   "execution_count": 164,
   "metadata": {},
   "outputs": [
    {
     "name": "stdout",
     "output_type": "stream",
     "text": [
      "10 trees are created\n",
      "precision is: [0.7578125  0.84313725]\n",
      "recall is: [0.92380952 0.58108108]\n",
      "f1-score is: [0.83261803 0.688     ]\n"
     ]
    }
   ],
   "source": [
    "# Implement your training and evaluation here.\n",
    "myForest = RandomForestClassifier(10)\n",
    "myForest.fit(X_train,y_train)\n",
    "y_pred = myForest.predict(X_test)\n",
    "\n",
    "# import packages for evaluation\n",
    "\n",
    "from sklearn.metrics import precision_recall_fscore_support\n",
    "\n",
    "[precision, recall, fscore, support] = precision_recall_fscore_support(y_test,y_pred)\n",
    "print('precision is:',precision)\n",
    "print('recall is:',recall)\n",
    "print('f1-score is:',fscore)"
   ]
  },
  {
   "cell_type": "markdown",
   "metadata": {},
   "source": [
    "## Task 2: Interpreting Random Forests\n",
    "\n",
    "Implement the mean decrease of accuracy for the [sklearn.ensemble.RandomForestClassifier](https://scikit-learn.org/stable/modules/generated/sklearn.ensemble.RandomForestClassifier.html) `forest` to analyse learned attribute importances. Use the test set `X_test` and `y_test` as out-of-bag-samples. Permute the values of the assessed attribute by randomly shuffling the corresponding column. Plot the results to compare the importance of each feature. Discuss your results (are any importance values surprising, do the results make sense in the context of the task, ...).\n",
    "\n",
    "Note: We have already trained the classifier and stored it in the variable `forest`. You only need to implement MDA and the plots for your results."
   ]
  },
  {
   "cell_type": "code",
   "execution_count": 165,
   "metadata": {},
   "outputs": [
    {
     "name": "stdout",
     "output_type": "stream",
     "text": [
      "Precision: [0.75206612 0.75862069]\n",
      "Recall: [0.86666667 0.59459459]\n",
      "F1-score: [0.80530973 0.66666667]\n"
     ]
    }
   ],
   "source": [
    "def create_forest():\n",
    "    import sklearn.ensemble\n",
    "    import sklearn.metrics\n",
    "    forest = sklearn.ensemble.RandomForestClassifier(8)\n",
    "    forest.fit(X_train, y_train)\n",
    "    prec, rec, f1, _ = sklearn.metrics.precision_recall_fscore_support(y_test, forest.predict(X_test))\n",
    "    print('Precision:', prec)\n",
    "    print('Recall:', rec)\n",
    "    print('F1-score:', f1)\n",
    "    return forest\n",
    "\n",
    "forest = create_forest()"
   ]
  },
  {
   "cell_type": "code",
   "execution_count": 166,
   "metadata": {},
   "outputs": [
    {
     "name": "stdout",
     "output_type": "stream",
     "text": [
      "The MDA is:\n",
      "[ 0.06703911  0.02234637  0.07821229 -0.00558659 -0.00558659  0.02793296\n",
      "  0.01117318  0.          0.02793296 -0.01675978  0.00558659  0.\n",
      " -0.02793296 -0.01675978 -0.00558659]\n"
     ]
    },
    {
     "data": {
      "image/png": "[encoded data removed]",
      "text/plain": [
       "<Figure size 720x468 with 1 Axes>"
      ]
     },
     "metadata": {
      "needs_background": "light"
     },
     "output_type": "display_data"
    }
   ],
   "source": [
    "# Implement your solution here.\n",
    "\n",
    "f1= forest.score(X_test, y_test)\n",
    "fscore = np.zeros(X_test.shape[1])\n",
    "\n",
    "# shuffle the attribute and evaluate, do the same process for each attribute\n",
    "for num in range(X_test.shape[1]):\n",
    "    X_test_permuted = X_test.copy()\n",
    "    np.random.shuffle(X_test_permuted[:,num])\n",
    "    fscore[num]= forest.score(X_test_permuted, y_test)\n",
    "    \n",
    "Mda = f1*np.ones(X_test.shape[1]) - fscore\n",
    "print('The MDA is:')\n",
    "print(Mda)\n",
    "\n",
    "attribute_list = ['Sex','Age','Fare','Master', 'Miss', 'Mr', 'Mrs', 'Rare','Class1','Class2','Class3','isAlone','C','Q','S']\n",
    "x = list(range(len(attribute_list)))\n",
    "width = 0.5;\n",
    "\n",
    "fig = plt.figure(figsize=(10, 6.5))\n",
    "plt.bar(x, Mda, width = width, label = 'MDA in survived',tick_label = attribute_list, fc = 'b')\n",
    "plt.legend()\n",
    "plt.grid()\n",
    "plt.show()"
   ]
  },
  {
   "cell_type": "markdown",
   "metadata": {},
   "source": [
    "## Task 3: Discrete AdaBoost with Decision Stumps\n",
    " \n",
    "*For all students other than B.Sc. Data Science.*  \n",
    "\n",
    "In this task, you will implement the discrete AdaBoost algorithm using decision stumps as weak learners. Your training will run until either `n_learners` weak learners have been added or a perfect accuracy on the training data set is achieved. Use the function `initialize_decision_stumps` to create decision stumps, which you can train on your weighted data using `fit` and predict using `predict`. The decision stumps are instances of the class [sklearn.tree.DecisionTreeClassifier](https://scikit-learn.org/stable/modules/generated/sklearn.tree.DecisionTreeClassifier.html).\n",
    "\n",
    "In addition, you will evaluate your model on the test data (`X_test`, `y_test`) using scikit-learn with the methods shown in the lecture (precision, recall, F1-score, confusion matrices, ...). Feel free to import any functions you need from scikit-learn for this purpose."
   ]
  },
  {
   "cell_type": "code",
   "execution_count": 167,
   "metadata": {},
   "outputs": [],
   "source": [
    "def initialize_decision_stump():\n",
    "    stump = DecisionTreeClassifier(criterion='entropy', max_depth=1)\n",
    "    return stump\n",
    "\n",
    "\n",
    "class AdaBoostClassifier(object):\n",
    "    def __init__(self, n_learners):\n",
    "        \n",
    "        self.n_learners = n_learners\n",
    "        \n",
    "        self.stumps = []\n",
    "        self.thetas = []\n",
    "        # Add any initialization you need here.\n",
    "    \n",
    "    def fit(self, X, y):\n",
    "        sampleNum = X.shape[0]\n",
    "        #initial weights\n",
    "        weights = np.ones(sampleNum) / sampleNum\n",
    "        current_label = np.arange(X.shape[1])\n",
    "        result = np.zeros(sampleNum)\n",
    "        y_cus =y.copy()\n",
    "        \n",
    "        # the the class into 1 and -1\n",
    "        y_cus[y_cus == 0] = -1\n",
    "        score = 0\n",
    "        \n",
    "        # training the adaboost, if maximum number of stamps is reached or classification score is satisfying, stop\n",
    "        # while len(self.stumps) <= self.n_learners and score<0.7:\n",
    "        while len(self.stumps) <= self.n_learners:\n",
    "            result = np.zeros(sampleNum)\n",
    "            #initialize a new stump\n",
    "            stump = initialize_decision_stump()\n",
    "            \n",
    "            #train the stump with the rest attributes and current weights\n",
    "            stump.fit(X[:,current_label],y_cus,sample_weight = weights)\n",
    "            \n",
    "            #prediction of this stump\n",
    "            stump_pred = stump.predict(X[:,current_label])\n",
    "            \n",
    "            #remember the training attributes for this stump\n",
    "            stump.label = current_label\n",
    "            #print(current_label)\n",
    "            #remove the used attribute\n",
    "            current_label = np.delete(current_label,np.nonzero(stump.feature_importances_)[0])\n",
    "            \n",
    "            #calculate the error times, correct = 0, false = 1\n",
    "            err = np.abs(stump_pred - y_cus)\n",
    "            err_hut = np.sum(err.dot(weights))/ np.sum(weights)\n",
    "            \n",
    "            # get the theta_m and new weights\n",
    "            theta_m = np.log((1-err_hut)/err_hut)\n",
    "            weights = weights*np.exp(theta_m*err)\n",
    "            \n",
    "            #store the trained stump_m and corresponding theta_m\n",
    "            self.thetas.append(theta_m)\n",
    "            self.stumps.append(stump)\n",
    "            \n",
    "            #get the prediction from current Adaboost predictor\n",
    "            for i in range(len(self.stumps)):\n",
    "                result += self.thetas[i]*self.stumps[i].predict(X[:,self.stumps[i].label])\n",
    "            \n",
    "            result[result >= 0] = 1\n",
    "            result[result < 0] = 0         \n",
    "            #caculate the error rate\n",
    "            score = np.sum(np.abs(result - y)/sampleNum)\n",
    "        \n",
    "\n",
    "        self.result = result\n",
    "        \n",
    "        # Implement your solution here.\n",
    "    \n",
    "    def predict(self, X, y):\n",
    "        result = np.zeros(X.shape[0])\n",
    "        \n",
    "        # prediction from every stump\n",
    "        for i in range(len(self.stumps)):\n",
    "            result += self.thetas[i]*self.stumps[i].predict(X[:,self.stumps[i].label])\n",
    "        \n",
    "        result[result >= 0] = 1\n",
    "        result[result < 0] = 0\n",
    "        \n",
    "        self.result = result\n",
    "        # Implement your solution here.\n",
    "        return self.result\n"
   ]
  },
  {
   "cell_type": "code",
   "execution_count": 168,
   "metadata": {},
   "outputs": [
    {
     "name": "stdout",
     "output_type": "stream",
     "text": [
      "prediction on test data:\n",
      "[0. 0. 0. 0. 0. 1. 0. 0. 1. 0. 0. 1. 0. 0. 0. 0. 0. 1. 1. 0. 0. 0. 1. 1.\n",
      " 0. 0. 1. 0. 1. 1. 0. 0. 0. 1. 0. 0. 0. 0. 1. 0. 0. 0. 0. 1. 1. 0. 0. 0.\n",
      " 1. 0. 1. 0. 1. 0. 0. 0. 0. 1. 1. 0. 1. 0. 1. 1. 1. 0. 0. 0. 1. 0. 1. 0.\n",
      " 1. 1. 0. 0. 1. 0. 0. 0. 0. 0. 0. 1. 1. 1. 1. 0. 1. 0. 1. 1. 0. 0. 1. 1.\n",
      " 1. 0. 1. 0. 1. 0. 0. 0. 0. 1. 0. 0. 1. 0. 0. 1. 0. 0. 0. 1. 0. 1. 1. 1.\n",
      " 1. 1. 1. 0. 0. 1. 0. 0. 1. 1. 0. 1. 0. 0. 0. 0. 1. 0. 0. 0. 0. 0. 0. 0.\n",
      " 0. 0. 1. 0. 1. 1. 0. 0. 0. 1. 0. 0. 0. 1. 1. 0. 1. 0. 0. 0. 1. 1. 0. 1.\n",
      " 0. 0. 0. 0. 0. 0. 1. 0. 0. 0. 0.]\n",
      "precision is: [0.52212389 0.3030303 ]\n",
      "recall is: [0.56190476 0.27027027]\n",
      "f1-score is: [0.5412844  0.28571429]\n"
     ]
    }
   ],
   "source": [
    "# Implement your training and evaluation here. You may reuse the code from Task 1.\n",
    "# problems exist, the classdifier has very low accuracy\n",
    "# the main idea is written as comments in the codes above.\n",
    "myAdaboost = AdaBoostClassifier(3)\n",
    "myAdaboost.fit(X_train,y_train)\n",
    "y_pred = myAdaboost.predict(X_test,y_test)\n",
    "print('prediction on test data:')\n",
    "print(y_pred)\n",
    "# import packages for evaluation\n",
    "\n",
    "from sklearn.metrics import precision_recall_fscore_support\n",
    "\n",
    "[precision, recall, fscore, support] = precision_recall_fscore_support(y_test,y_pred)\n",
    "print('precision is:',precision)\n",
    "print('recall is:',recall)\n",
    "print('f1-score is:',fscore)"
   ]
  }
 ],
 "metadata": {
  "kernelspec": {
   "display_name": "Python 3",
   "language": "python",
   "name": "python3"
  },
  "language_info": {
   "codemirror_mode": {
    "name": "ipython",
    "version": 3
   },
   "file_extension": ".py",
   "mimetype": "text/x-python",
   "name": "python",
   "nbconvert_exporter": "python",
   "pygments_lexer": "ipython3",
   "version": "3.8.3"
  }
 },
 "nbformat": 4,
 "nbformat_minor": 1
}
