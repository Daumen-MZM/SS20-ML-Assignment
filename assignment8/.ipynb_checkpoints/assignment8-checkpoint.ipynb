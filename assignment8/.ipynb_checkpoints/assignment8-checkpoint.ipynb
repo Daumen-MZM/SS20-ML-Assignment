{
 "cells": [
  {
   "cell_type": "markdown",
   "metadata": {},
   "source": [
    "# Assignment 8: Neural Networks\n",
    "\n",
    "Only use the already imported library `numpy` and the Python standard library. For the evaluation you may also use scikit-learn (`sklearn`) and `matplotlib`. Make sure that the dataset `airfoil_self_noise.csv` is in the same directory as the notebook.\n",
    "\n",
    "List your team members (name and immatriculation number) and indicate whether you are a B.Sc. Data Science or other group in the following cell:"
   ]
  },
  {
   "cell_type": "markdown",
   "metadata": {},
   "source": [
    "- Yang Zheng  (3434770)\n",
    "- Yuchan Bian (3496226)\n",
    "- Zhiming Ma  (3495421)\n",
    "\n",
    "Other group, not B.Sc. Data Science"
   ]
  },
  {
   "cell_type": "code",
   "execution_count": 109,
   "metadata": {},
   "outputs": [],
   "source": [
    "import numpy as np\n",
    "\n",
    "def load_dataset(path):\n",
    "    from sklearn.model_selection import train_test_split\n",
    "    \n",
    "    data = np.genfromtxt(path)\n",
    "    X, y = data[:, :5], data[:, 5]\n",
    "    X_train, X_test, y_train, y_test = train_test_split(X, y, test_size=0.3, random_state=2020)\n",
    "\n",
    "    return X_train, X_test, y_train, y_test\n",
    "    \n",
    "\n",
    "X_train, X_test, y_train, y_test = load_dataset('airfoil_self_noise.csv')"
   ]
  },
  {
   "cell_type": "markdown",
   "metadata": {},
   "source": [
    "## Task 3: Feedforward Neural Network: Programming\n",
    "\n",
    "In this task, you will implement a feedforward neural network for regression. The hyperparameters of the model are:\n",
    "- `input_dim`: The dimension of the input vector.\n",
    "- `output_dim`: The dimension of the output vector.\n",
    "- `width`: The dimension of each hidden layer.\n",
    "- `depth`: The number of hidden layers. For B.Sc. Data Science students, this parameter is constant with a value of 1.\n",
    "- `learning_rate`: The learning rate for gradient descent.\n",
    "- `epochs`: The number of epochs/iterations performed during training.\n",
    "\n",
    "B.Sc. Data Science only have to implement for a single hidden layer, i.e. `depth = 1`. All other students have to implement the network for any `depth >= 1`.\n",
    "\n",
    "The activation function for each hidden layer is ReLU (g(x) = max(0, x)). The output layer uses the identity as activation, since our objective is regression.\n",
    "\n",
    "You have to implement the `FeedforwardNeuralNetworkRegressor`.\n",
    "\n",
    "The `__init__` method initializes the network.\n",
    "Initialize each weight and bias randomly with a standard Gaussian distribution using the numpy function `numpy.random.normal` with default parameters.\n",
    "\n",
    "The `fit` method trains the network.\n",
    "Use backpropagation with gradient descent similar to Task 2.\n",
    "Use the whole training data set for each training epoch.\n",
    "Use the mean squared error as loss function.\n",
    "\n",
    "The `predict` method computes the forward-pass of the network.\n",
    "\n",
    "Evaluate your classifier on the test data with the mean squared error and compare your results to your linear regression model from assignment 3. Try out different hyper-parameters and compare the results. You may want to normalize your input and output data for better performance."
   ]
  },
  {
   "cell_type": "code",
   "execution_count": 128,
   "metadata": {},
   "outputs": [],
   "source": [
    "class FeedforwardNeuralNetworkClassifier(object):\n",
    "    def __init__(self, input_dim, output_dim, width, depth, learning_rate, epochs):\n",
    "        # Add your code, such as initialization of weights here.\n",
    "        self.input_dim = input_dim\n",
    "        self.output_dim = output_dim\n",
    "        self.width = width\n",
    "        self.depth = depth\n",
    "        self.learning_rate = learning_rate\n",
    "        self.epochs = epochs\n",
    "        \n",
    "        self.layer_params = []\n",
    "        \n",
    "        for dep in range(depth+1):\n",
    "            layer = []\n",
    "            if dep == 0:\n",
    "                weight = np.random.normal(0,1,size = (width[dep],input_dim))\n",
    "                bias = np.random.normal(0,1,size = (width[dep],1))\n",
    "            elif dep == depth:\n",
    "                weight = np.random.normal(0,1,size = (output_dim, width[dep-1]))\n",
    "                bias = np.random.normal(0,1,size = (output_dim,1))\n",
    "            else:\n",
    "                weight = np.random.normal(0,1,size = (width[dep], width[dep-1]))\n",
    "                bias = np.random.normal(0,1,size = (width[dep],1))\n",
    "                \n",
    "            layer.append(weight)\n",
    "            layer.append(bias)\n",
    "            self.layer_params.append(layer)\n",
    "            \n",
    "    def fit(self, X, y):\n",
    "        \n",
    "        losses = np.zeros(self.epochs)\n",
    "        loss_accum = 0\n",
    "        #gradient descent\n",
    "        data_length = X.shape[0]\n",
    "        \n",
    "        #normalization\n",
    "        mu = np.mean(X,axis=0)\n",
    "        dev = np.sqrt(np.var(X,axis=0))\n",
    "        \n",
    "        for ep in range(self.epochs):\n",
    "            print('epoch:',ep)\n",
    "            \n",
    "            #foreward       \n",
    "            X_0 = (X.copy() - mu* np.ones((X.shape[0],X.shape[1])))/dev\n",
    "            \n",
    "            X_0 = np.transpose(X_0)\n",
    "            y_pred, tempXs, loss = self.foreward(X_0[:,0], y[0])\n",
    "            loss_accum = loss_accum + loss\n",
    "            #losses.append(loss)\n",
    "\n",
    "            \n",
    "            for num in range(data_length):\n",
    "                #dL_dy_pred_i\n",
    "                step = 2 * (y_pred - y[num])/data_length\n",
    "            \n",
    "                #back propagation\n",
    "                for dep in reversed(range(self.depth+1)):\n",
    "                    phi = tempXs[dep].copy()\n",
    "            \n",
    "                    #derivative of ReLU\n",
    "                    phi[phi>1] = 1\n",
    "                    phi[phi<=0] = 0\n",
    "\n",
    "                    step = step * phi\n",
    "                    \n",
    "                    #step of b\n",
    "                    step_b = step\n",
    "                    \n",
    "                    #step of W\n",
    "                    if dep == 0:\n",
    "                        step_w = np.dot(step, X_0[:,num].reshape((1,-1)))\n",
    "                    else:\n",
    "                        step_w = np.dot(step, tempXs[dep-1].T)\n",
    "                    \n",
    "                    step = np.dot(self.layer_params[dep][0].T,step)\n",
    "                    \n",
    "                    self.layer_params[dep][0] = self.layer_params[dep][0] - self.learning_rate * step_w\n",
    "                    self.layer_params[dep][1] = self.layer_params[dep][1] - self.learning_rate * step_b\n",
    "                \n",
    "                if num != data_length-1:\n",
    "                    y_pred, tempXs, loss = self.foreward(X_0[:,num+1], y[num+1])\n",
    "                    loss_accum = loss_accum + loss\n",
    "                    \n",
    "            losses[ep] = loss_accum/data_length\n",
    "            loss_accum = 0\n",
    "                    \n",
    "        return losses\n",
    "            \n",
    "    def predict(self, X):\n",
    "        mu = np.mean(X,axis=0)\n",
    "        dev = np.sqrt(np.var(X,axis=0))\n",
    "        \n",
    "        X_nor = (X.copy() - mu* np.ones((X.shape[0],X.shape[1])))/dev\n",
    "        \n",
    "        y_pred = np.zeros((X_nor.shape[0],1))\n",
    "        for num in range(X.shape[0]):\n",
    "            y, tempXs, loss = self.foreward(X_nor[num,:], 0)\n",
    "            y_pred[num] = y\n",
    "        return y_pred\n",
    "    \n",
    "    def foreward(self, X, y):\n",
    "        \n",
    "        data_length = 1\n",
    "        tempXs = []\n",
    "        tempX = X.copy()\n",
    "        tempX = tempX.reshape((-1,1))\n",
    "        \n",
    "        for dep in range(self.depth+1):\n",
    "            activ =  np.dot(self.layer_params[dep][0],tempX) + data_length * self.layer_params[dep][1]\n",
    "            \n",
    "            #ReLU activation function\n",
    "            if dep == self.depth:\n",
    "                tempX = np.maximum(np.zeros((self.output_dim,data_length)),activ)\n",
    "            else:\n",
    "                tempX = np.maximum(np.zeros((self.width[dep],data_length)),activ)\n",
    "                \n",
    "            tempXs.append(tempX)\n",
    "        if y != 0:\n",
    "            loss = (tempX - y)**2\n",
    "        else:\n",
    "            loss = 0\n",
    "        \n",
    "        return tempX, tempXs, loss"
   ]
  },
  {
   "cell_type": "code",
   "execution_count": 143,
   "metadata": {},
   "outputs": [
    {
     "name": "stdout",
     "output_type": "stream",
     "text": [
      "epoch: 0\n",
      "epoch: 1\n",
      "epoch: 2\n",
      "epoch: 3\n",
      "epoch: 4\n",
      "epoch: 5\n",
      "epoch: 6\n",
      "epoch: 7\n",
      "epoch: 8\n",
      "epoch: 9\n"
     ]
    }
   ],
   "source": [
    "# Implement your training and evaluation here.\n",
    "epoch = 10\n",
    "rate = 0.01\n",
    "\n",
    "imput_dim = X_train.shape[1]\n",
    "\n",
    "#arbitary width, can be adjusted as wished\n",
    "width = np.array([5,6,4])\n",
    "\n",
    "depth = len(width)\n",
    "myFeedforewardNNC = FeedforwardNeuralNetworkClassifier(imput_dim, 1, width, depth, rate, epoch)\n",
    "losses = myFeedforewardNNC.fit(X_train,y_train)\n",
    "y_pred = myFeedforewardNNC.predict(X_test)"
   ]
  },
  {
   "cell_type": "code",
   "execution_count": 144,
   "metadata": {},
   "outputs": [
    {
     "name": "stdout",
     "output_type": "stream",
     "text": [
      "[712.15851066  50.66035051  37.78335442  32.85069602  30.39690491\n",
      "  28.97690978  27.95123521  27.12276214  26.35593126  25.69627326]\n"
     ]
    },
    {
     "data": {
      "image/png": "[encoded data removed]",
      "text/plain": [
       "<Figure size 432x288 with 1 Axes>"
      ]
     },
     "metadata": {
      "needs_background": "light"
     },
     "output_type": "display_data"
    }
   ],
   "source": [
    "print(losses)\n",
    "x1 = np.arange(epoch)\n",
    "\n",
    "import matplotlib.pyplot as plt\n",
    "line = plt.plot(x1,losses,'ro-')\n",
    "plt.xlabel('epochs')\n",
    "plt.ylabel('loss')\n",
    "plt.grid()"
   ]
  },
  {
   "cell_type": "code",
   "execution_count": null,
   "metadata": {},
   "outputs": [],
   "source": []
  }
 ],
 "metadata": {
  "kernelspec": {
   "display_name": "Python 3",
   "language": "python",
   "name": "python3"
  },
  "language_info": {
   "codemirror_mode": {
    "name": "ipython",
    "version": 3
   },
   "file_extension": ".py",
   "mimetype": "text/x-python",
   "name": "python",
   "nbconvert_exporter": "python",
   "pygments_lexer": "ipython3",
   "version": "3.8.3"
  }
 },
 "nbformat": 4,
 "nbformat_minor": 1
}
